{
 "cells": [
  {
   "cell_type": "code",
   "execution_count": 1,
   "id": "24db9c25-170a-4f00-b584-3cf1509cd788",
   "metadata": {},
   "outputs": [
    {
     "name": "stdout",
     "output_type": "stream",
     "text": [
      "Hasil pembagian: 5.0\n",
      "Error: Tidak bisa membagi dengan nol.\n",
      "Error: Tipe data tidak valid. Pastikan kedua argumen adalah angka.\n"
     ]
    }
   ],
   "source": [
    "def divide_numbers(num1, num2):\n",
    "    try:\n",
    "        result = num1 / num2\n",
    "    except ZeroDivisionError:\n",
    "        return \"Error: Tidak bisa membagi dengan nol.\"\n",
    "    except TypeError:\n",
    "        return \"Error: Tipe data tidak valid. Pastikan kedua argumen adalah angka.\"\n",
    "    else:\n",
    "        return f\"Hasil pembagian: {result}\"\n",
    "\n",
    "\n",
    "print(divide_numbers(10, 2))   # Hasil yang valid\n",
    "print(divide_numbers(10, 0))   # Pembagian dengan nol\n",
    "print(divide_numbers(10, \"a\")) # Tipe data tidak valid"
   ]
  },
  {
   "cell_type": "code",
   "execution_count": null,
   "id": "c98ee7c0-85a9-4d2d-a3ee-7eaa7f4be38f",
   "metadata": {},
   "outputs": [],
   "source": []
  }
 ],
 "metadata": {
  "kernelspec": {
   "display_name": "Python 3 (ipykernel)",
   "language": "python",
   "name": "python3"
  },
  "language_info": {
   "codemirror_mode": {
    "name": "ipython",
    "version": 3
   },
   "file_extension": ".py",
   "mimetype": "text/x-python",
   "name": "python",
   "nbconvert_exporter": "python",
   "pygments_lexer": "ipython3",
   "version": "3.11.7"
  }
 },
 "nbformat": 4,
 "nbformat_minor": 5
}
