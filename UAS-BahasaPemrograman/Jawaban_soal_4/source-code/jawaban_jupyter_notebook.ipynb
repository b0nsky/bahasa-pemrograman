{
 "cells": [
  {
   "cell_type": "code",
   "execution_count": 2,
   "metadata": {},
   "outputs": [
    {
     "name": "stdout",
     "output_type": "stream",
     "text": [
      "Data Mahasiswa:\n",
      "ID: 1, Nama: Andi, Umur: 20\n"
     ]
    }
   ],
   "source": [
    "import sqlite3\n",
    "\n",
    "# Membuat koneksi ke database (atau membuat database baru jika belum ada)\n",
    "conn = sqlite3.connect('contoh.db')\n",
    "\n",
    "# Membuat cursor untuk berinteraksi dengan database\n",
    "cursor = conn.cursor()\n",
    "\n",
    "# Membuat tabel baru\n",
    "cursor.execute('''\n",
    "CREATE TABLE IF NOT EXISTS mahasiswa (\n",
    "    id INTEGER PRIMARY KEY,\n",
    "    nama TEXT,\n",
    "    umur INTEGER\n",
    ")\n",
    "''')\n",
    "\n",
    "# Menambahkan data ke tabel\n",
    "cursor.execute('''\n",
    "INSERT INTO mahasiswa (nama, umur) VALUES (?, ?)\n",
    "''', ('Andi', 20))\n",
    "\n",
    "# Mengambil data dari tabel\n",
    "cursor.execute('SELECT * FROM mahasiswa')\n",
    "data_mahasiswa = cursor.fetchall()\n",
    "\n",
    "# Menampilkan hasil\n",
    "print(\"Data Mahasiswa:\")\n",
    "for row in data_mahasiswa:\n",
    "    print(f'ID: {row[0]}, Nama: {row[1]}, Umur: {row[2]}')\n",
    "\n",
    "# Menyimpan perubahan dan menutup koneksi\n",
    "conn.commit()\n",
    "conn.close()"
   ]
  }
 ],
 "metadata": {
  "kernelspec": {
   "display_name": "Python 3",
   "language": "python",
   "name": "python3"
  },
  "language_info": {
   "codemirror_mode": {
    "name": "ipython",
    "version": 3
   },
   "file_extension": ".py",
   "mimetype": "text/x-python",
   "name": "python",
   "nbconvert_exporter": "python",
   "pygments_lexer": "ipython3",
   "version": "3.10.12"
  }
 },
 "nbformat": 4,
 "nbformat_minor": 5
}
