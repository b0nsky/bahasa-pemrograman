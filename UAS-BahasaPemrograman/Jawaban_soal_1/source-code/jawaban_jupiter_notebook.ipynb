{
 "cells": [
  {
   "cell_type": "code",
   "execution_count": 1,
   "metadata": {},
   "outputs": [
    {
     "name": "stdout",
     "output_type": "stream",
     "text": [
      "Halo, Alice!\n",
      "120\n"
     ]
    }
   ],
   "source": [
    "# Contoh function\n",
    "def sapa(nama):\n",
    "    return f\"Halo, {nama}!\"\n",
    "\n",
    "# Menggunakan fungsi\n",
    "print(sapa(\"Alice\"))\n",
    "\n",
    "# Contoh recursive\n",
    "def faktorial(n):\n",
    "    # Kondisi dasar\n",
    "    if n == 0 or n == 1:\n",
    "        return 1\n",
    "    else:\n",
    "        # Rekursi\n",
    "        return n * faktorial(n - 1)\n",
    "\n",
    "# Menggunakan fungsi rekursif\n",
    "print(faktorial(5))  "
   ]
  }
 ],
 "metadata": {
  "kernelspec": {
   "display_name": "Python 3",
   "language": "python",
   "name": "python3"
  },
  "language_info": {
   "codemirror_mode": {
    "name": "ipython",
    "version": 3
   },
   "file_extension": ".py",
   "mimetype": "text/x-python",
   "name": "python",
   "nbconvert_exporter": "python",
   "pygments_lexer": "ipython3",
   "version": "3.10.12"
  }
 },
 "nbformat": 4,
 "nbformat_minor": 5
}
